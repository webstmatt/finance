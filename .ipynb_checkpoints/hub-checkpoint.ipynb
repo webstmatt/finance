{
 "cells": [
  {
   "cell_type": "code",
   "execution_count": 1,
   "metadata": {
    "collapsed": false
   },
   "outputs": [],
   "source": [
    "from helpers import *\n",
    "import datasets\n",
    "import pandas as pd"
   ]
  },
  {
   "cell_type": "code",
   "execution_count": null,
   "metadata": {
    "collapsed": false
   },
   "outputs": [],
   "source": []
  },
  {
   "cell_type": "code",
   "execution_count": 4,
   "metadata": {
    "collapsed": false
   },
   "outputs": [],
   "source": [
    "startDate = '2018-02-01'\n",
    "endDate = '2018-03-30'"
   ]
  },
  {
   "cell_type": "code",
   "execution_count": 3,
   "metadata": {
    "collapsed": true
   },
   "outputs": [],
   "source": [
    "#startDate = '2018-02-24'\n",
    "#endDate = '2018-02-24'"
   ]
  },
  {
   "cell_type": "code",
   "execution_count": 4,
   "metadata": {
    "collapsed": false
   },
   "outputs": [
    {
     "name": "stdout",
     "output_type": "stream",
     "text": [
      "Processing prices: BH | Progress: 1 of 1\n",
      "prices processing finished - success: 1 | fail: 0\n",
      "Processing stock summary: BH | Progress: 1 of 1\n",
      "stocksummary processing finished - success: 1 | fail: 0\n",
      "Saving files to: /Users/matt/projects/finance/datasets/dev\n"
     ]
    }
   ],
   "source": [
    "earnings, symbols, prices, stocksummary, processLog = datasets.get_stocks_earnings_prices(startDate, endDate, env='dev')"
   ]
  },
  {
   "cell_type": "code",
   "execution_count": 8,
   "metadata": {
    "collapsed": false
   },
   "outputs": [],
   "source": [
    "#processLog[processLog['outcome']=='fail']"
   ]
  },
  {
   "cell_type": "code",
   "execution_count": 2,
   "metadata": {
    "collapsed": false
   },
   "outputs": [
    {
     "data": {
      "text/html": [
       "<div>\n",
       "<style scoped>\n",
       "    .dataframe tbody tr th:only-of-type {\n",
       "        vertical-align: middle;\n",
       "    }\n",
       "\n",
       "    .dataframe tbody tr th {\n",
       "        vertical-align: top;\n",
       "    }\n",
       "\n",
       "    .dataframe thead th {\n",
       "        text-align: right;\n",
       "    }\n",
       "</style>\n",
       "<table border=\"1\" class=\"dataframe\">\n",
       "  <thead>\n",
       "    <tr style=\"text-align: right;\">\n",
       "      <th></th>\n",
       "      <th>env</th>\n",
       "      <th>market</th>\n",
       "      <th>dataset</th>\n",
       "      <th>start</th>\n",
       "      <th>end</th>\n",
       "      <th>days</th>\n",
       "      <th>interval</th>\n",
       "      <th>updated</th>\n",
       "      <th>dir</th>\n",
       "      <th>files</th>\n",
       "    </tr>\n",
       "  </thead>\n",
       "  <tbody>\n",
       "    <tr>\n",
       "      <th>0</th>\n",
       "      <td>dev</td>\n",
       "      <td>stocks</td>\n",
       "      <td>earnings, prices</td>\n",
       "      <td>2018-01-11</td>\n",
       "      <td>2018-03-23</td>\n",
       "      <td>71 days</td>\n",
       "      <td>30m</td>\n",
       "      <td>2018-03-25 14:29:00</td>\n",
       "      <td>/Users/matt/projects/finance/datasets/dev/stoc...</td>\n",
       "      <td>earnings.csv, prices.csv, stocksummary.csv, sy...</td>\n",
       "    </tr>\n",
       "    <tr>\n",
       "      <th>1</th>\n",
       "      <td>dev</td>\n",
       "      <td>stocks</td>\n",
       "      <td>earnings, prices</td>\n",
       "      <td>2018-02-01</td>\n",
       "      <td>2018-03-30</td>\n",
       "      <td>57 days</td>\n",
       "      <td>30m</td>\n",
       "      <td>2018-03-31 23:10:23</td>\n",
       "      <td>/Users/matt/projects/finance/datasets/dev/stoc...</td>\n",
       "      <td>earnings.csv, prices.csv, processLog.csv, stoc...</td>\n",
       "    </tr>\n",
       "    <tr>\n",
       "      <th>2</th>\n",
       "      <td>dev</td>\n",
       "      <td>stocks</td>\n",
       "      <td>earnings, prices</td>\n",
       "      <td>2018-02-24</td>\n",
       "      <td>2018-02-24</td>\n",
       "      <td>0 days</td>\n",
       "      <td>30m</td>\n",
       "      <td>2018-04-01 16:50:43</td>\n",
       "      <td>/Users/matt/projects/finance/datasets/dev/stoc...</td>\n",
       "      <td>earnings.csv, prices.csv, processLog.csv, stoc...</td>\n",
       "    </tr>\n",
       "  </tbody>\n",
       "</table>\n",
       "</div>"
      ],
      "text/plain": [
       "   env  market           dataset      start        end    days interval  \\\n",
       "0  dev  stocks  earnings, prices 2018-01-11 2018-03-23 71 days      30m   \n",
       "1  dev  stocks  earnings, prices 2018-02-01 2018-03-30 57 days      30m   \n",
       "2  dev  stocks  earnings, prices 2018-02-24 2018-02-24  0 days      30m   \n",
       "\n",
       "              updated                                                dir  \\\n",
       "0 2018-03-25 14:29:00  /Users/matt/projects/finance/datasets/dev/stoc...   \n",
       "1 2018-03-31 23:10:23  /Users/matt/projects/finance/datasets/dev/stoc...   \n",
       "2 2018-04-01 16:50:43  /Users/matt/projects/finance/datasets/dev/stoc...   \n",
       "\n",
       "                                               files  \n",
       "0  earnings.csv, prices.csv, stocksummary.csv, sy...  \n",
       "1  earnings.csv, prices.csv, processLog.csv, stoc...  \n",
       "2  earnings.csv, prices.csv, processLog.csv, stoc...  "
      ]
     },
     "execution_count": 2,
     "metadata": {},
     "output_type": "execute_result"
    }
   ],
   "source": [
    "datasets.browse()"
   ]
  },
  {
   "cell_type": "code",
   "execution_count": null,
   "metadata": {
    "collapsed": true
   },
   "outputs": [],
   "source": []
  }
 ],
 "metadata": {
  "kernelspec": {
   "display_name": "Python 2",
   "language": "python",
   "name": "python2"
  },
  "language_info": {
   "codemirror_mode": {
    "name": "ipython",
    "version": 2
   },
   "file_extension": ".py",
   "mimetype": "text/x-python",
   "name": "python",
   "nbconvert_exporter": "python",
   "pygments_lexer": "ipython2",
   "version": "2.7.10"
  }
 },
 "nbformat": 4,
 "nbformat_minor": 2
}
