{
 "cells": [
  {
   "cell_type": "code",
   "execution_count": null,
   "metadata": {
    "collapsed": true
   },
   "outputs": [],
   "source": [
    "#helpers is required - its been installed into this location: /Library/Python/2.7/site-packages/helpers\n",
    "from helpers import *"
   ]
  },
  {
   "cell_type": "markdown",
   "metadata": {},
   "source": [
    "Links\n",
    "\n",
    "Earnings\n",
    "https://finance.yahoo.com/calendar/earnings?from=2018-02-01&to=2018-02-02&day=2018-02-01\n",
    "\n",
    "Prices (30 min)\n",
    "https://www.google.com/finance/getprices?q=AAPL&i=1800&p=90d&f=d,o,h,l,c,v\n",
    "\n",
    "Stock Summary (meta data)    \n",
    "https://finance.yahoo.com/quote/AAPL"
   ]
  },
  {
   "cell_type": "markdown",
   "metadata": {},
   "source": [
    "Project structure\n",
    "\n",
    "root: hub\n",
    "    datascraper: Data retrieval. Save csv's to datasets library.\n",
    "    datasets: Data library. \n",
    "    analysis: analysis library\n",
    "    strategy: strategy library\n",
    "    evaluate: evalution module\n",
    "    backtest: backtesting module\n",
    "    helpers: helper functions\n"
   ]
  },
  {
   "cell_type": "markdown",
   "metadata": {},
   "source": [
    "Machine learning\n",
    "-Deep Q to make a decision on whether to buy or sell\n",
    "-decision tree on the data\n"
   ]
  },
  {
   "cell_type": "markdown",
   "metadata": {},
   "source": [
    "Pull in additional meta data about the stocks\n",
    "https://finance.yahoo.com/quote/AAPL/key-statistics?p=AAPL\n",
    "\n",
    "Pull stock split data for event analysis"
   ]
  },
  {
   "cell_type": "markdown",
   "metadata": {},
   "source": [
    "PE rows x CAP cols & lines for surprise levels"
   ]
  },
  {
   "cell_type": "markdown",
   "metadata": {},
   "source": [
    "Cleanup code and make it mroe sustainable\n",
    "Comment code"
   ]
  },
  {
   "cell_type": "markdown",
   "metadata": {},
   "source": [
    "Ability to quickly backtest various strategies"
   ]
  },
  {
   "cell_type": "markdown",
   "metadata": {},
   "source": [
    "ERRORS and IMPROVEMENTS\n",
    "\n",
    "earnings_yahoo_range - we ignore any announcements that are not in the right format. This can be fixed.\n",
    "\n",
    "The data in the earnings scraper has an issue where it does not scrape data if there is more than 100 earnings announcements on a single day. Need to find a way to include these lost data points.\n",
    "https://finance.yahoo.com/calendar/earnings?from=2018-02-01&to=2018-02-03&day=2018-02-01"
   ]
  },
  {
   "cell_type": "code",
   "execution_count": null,
   "metadata": {
    "collapsed": true
   },
   "outputs": [],
   "source": []
  }
 ],
 "metadata": {
  "kernelspec": {
   "display_name": "Python 2",
   "language": "python",
   "name": "python2"
  },
  "language_info": {
   "codemirror_mode": {
    "name": "ipython",
    "version": 2
   },
   "file_extension": ".py",
   "mimetype": "text/x-python",
   "name": "python",
   "nbconvert_exporter": "python",
   "pygments_lexer": "ipython2",
   "version": "2.7.10"
  }
 },
 "nbformat": 4,
 "nbformat_minor": 2
}
