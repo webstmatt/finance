{
 "cells": [
  {
   "cell_type": "markdown",
   "metadata": {},
   "source": [
    "Machine Learning Idea (features)\n",
    "-market cap\n",
    "-sector\n",
    "-avg price\n",
    "-price earnings\n",
    "-avg volume\n",
    "-volume t-1, t-2, t-3, t-4, etc\n",
    "-price t-1, t-2, t-3, t-4, etc\n",
    "-(event) EPS Estimate\t\n",
    "-(event) Reported EPS\t\n",
    "-(event) Surprise(%)\t\n",
    "-beta\n",
    "-dividend yield\n",
    "\n",
    "Maybes\n",
    "-avg EPS for same sector\n",
    "-avg EPS for similar market cap\n",
    "-avg EPS for similar market cap / sector\n"
   ]
  },
  {
   "cell_type": "code",
   "execution_count": null,
   "metadata": {
    "collapsed": true
   },
   "outputs": [],
   "source": []
  }
 ],
 "metadata": {
  "kernelspec": {
   "display_name": "Python 2",
   "language": "python",
   "name": "python2"
  },
  "language_info": {
   "codemirror_mode": {
    "name": "ipython",
    "version": 2
   },
   "file_extension": ".py",
   "mimetype": "text/x-python",
   "name": "python",
   "nbconvert_exporter": "python",
   "pygments_lexer": "ipython2",
   "version": "2.7.10"
  }
 },
 "nbformat": 4,
 "nbformat_minor": 2
}
