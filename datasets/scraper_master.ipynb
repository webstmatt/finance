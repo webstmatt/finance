{
 "cells": [
  {
   "cell_type": "code",
   "execution_count": 55,
   "metadata": {
    "collapsed": false
   },
   "outputs": [],
   "source": [
    "from helpers import *\n",
    "import scraper_functions\n",
    "import pandas as pd\n",
    "import datetime\n",
    "\n",
    "import os\n",
    "from __init__ import const_datasetLibDir\n",
    "#import __init__"
   ]
  },
  {
   "cell_type": "code",
   "execution_count": 56,
   "metadata": {
    "collapsed": false
   },
   "outputs": [],
   "source": [
    "def get_stocks_earnings_prices(startDate, endDate, returnDataFrames = True, env = 'dev', intervalMins=30, periodDays=90):\n",
    "    '''Scrape earnings data from yahoo then scrape the price data & stock summary afterwards.'''\n",
    "    \n",
    "    libraryDir = os.path.join(const_datasetLibDir, env)\n",
    "    #declare a process log for capturing success and failed data\n",
    "    processLog = pd.DataFrame(columns = ['dataset','outcome','id'])\n",
    "    \n",
    "    #scrape earnings data\n",
    "    earnings = scraper_functions.earnings_yahoo_range(startDate,endDate)\n",
    "    \n",
    "    #grab the list of symbols\n",
    "    #symbols = pd.read_csv(libraryDir + 'symbols.csv', sep='\\t',index_col=0)\n",
    "    symbols = pd.DataFrame(earnings['Symbol'])\n",
    "    \n",
    "    #return the prices for the list of symbols\n",
    "    prices, success, fail = scraper_functions.prices_google_symbols(symbols)\n",
    "    processLog = processLog.append(pd.DataFrame({'dataset': 'earnings', 'outcome': 'success', 'id': success}))\n",
    "    processLog = processLog.append(pd.DataFrame({'dataset': 'earnings', 'outcome': 'fail', 'id': fail}))\n",
    "\n",
    "    #return the stock summary data (and success/failed symbols)\n",
    "    stocksummary, success, fail = scraper_functions.stocksummary_yahoo_symbols(symbols)\n",
    "    processLog = processLog.append(pd.DataFrame({'dataset': 'stocksummary', 'outcome': 'success', 'id': success}))\n",
    "    processLog = processLog.append(pd.DataFrame({'dataset': 'stocksummary', 'outcome': 'fail', 'id': fail}))\n",
    "    \n",
    "    print 'Saving files to: ' + libraryDir\n",
    "    \n",
    "    #determine the library name and the directory\n",
    "    now = datetime.datetime.now().strftime(\"%Y-%m-%d %H%M%S\")\n",
    "    libraryName = 'stocks_earnings_prices_' + str(intervalMins) + 'm_' + startDate + '_' + endDate + '_' + now\n",
    "    libraryDir = os.path.join(libraryDir, libraryName)\n",
    "    \n",
    "    #check if the directory exists / make a new one if doesnt\n",
    "    checkDirExists(libraryDir, make=True)\n",
    "    \n",
    "    #store results as csv's\n",
    "        \n",
    "    earnings.to_csv(os.path.join(libraryDir,'earnings.csv'), sep='\\t')\n",
    "    earnings['Symbol'].to_csv(os.path.join(libraryDir, 'symbols.csv'), sep='\\t', header=True)\n",
    "    prices.to_csv(os.path.join(libraryDir, 'prices.csv'), sep='\\t')\n",
    "    stocksummary.to_csv(os.path.join(libraryDir, 'stocksummary.csv'), sep='\\t')\n",
    "    processLog.to_csv(os.path.join(libraryDir, 'processLog.csv'), sep='\\t')\n",
    "    \n",
    "    return earnings, symbols, prices, stocksummary, processLog"
   ]
  }
 ],
 "metadata": {
  "kernelspec": {
   "display_name": "Python 2",
   "language": "python",
   "name": "python2"
  },
  "language_info": {
   "codemirror_mode": {
    "name": "ipython",
    "version": 2
   },
   "file_extension": ".py",
   "mimetype": "text/x-python",
   "name": "python",
   "nbconvert_exporter": "python",
   "pygments_lexer": "ipython2",
   "version": "2.7.10"
  }
 },
 "nbformat": 4,
 "nbformat_minor": 2
}
