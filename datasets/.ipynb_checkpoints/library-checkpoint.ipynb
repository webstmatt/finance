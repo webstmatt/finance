{
 "cells": [
  {
   "cell_type": "code",
   "execution_count": 35,
   "metadata": {
    "collapsed": true
   },
   "outputs": [],
   "source": [
    "from helpers import *\n",
    "import pandas as pd\n",
    "import datetime\n",
    "import os"
   ]
  },
  {
   "cell_type": "code",
   "execution_count": 36,
   "metadata": {
    "collapsed": false
   },
   "outputs": [],
   "source": [
    "from __init__ import const_datasetLibDir"
   ]
  },
  {
   "cell_type": "code",
   "execution_count": 37,
   "metadata": {
    "collapsed": true
   },
   "outputs": [],
   "source": [
    "def process_columns(x):\n",
    "    '''This function processes data and forces the data into the ideal format.'''\n",
    "    if type(x) == float:\n",
    "        return x\n",
    "    if type(x) == int:\n",
    "        return float(x)\n",
    "    if type(x) == unicode:\n",
    "        try:\n",
    "            x = str(x)\n",
    "        except:\n",
    "            x = x\n",
    "    if type(x) == str:\n",
    "        try:\n",
    "            x = datetime.datetime.strptime(x, '%Y-%m-%d %H:%M:%S')\n",
    "            return x\n",
    "        except:\n",
    "            try:\n",
    "                x = datetime.datetime.strptime(x, '%Y-%m-%d')\n",
    "                return x\n",
    "            except:\n",
    "                return x\n",
    "    else:\n",
    "        return None"
   ]
  },
  {
   "cell_type": "code",
   "execution_count": 51,
   "metadata": {
    "collapsed": true
   },
   "outputs": [],
   "source": [
    "def browse():\n",
    "    '''Browse the library of datasets that are available. Returns a dataframe'''\n",
    "    \n",
    "    #search the directory (dev/prod are required)\n",
    "    data = []\n",
    "    for env in ['dev','prod']:\n",
    "        libDir = os.path.join(const_datasetLibDir, env)\n",
    "        #libDir = './' + env\n",
    "        for folder in os.listdir(libDir):\n",
    "            #libDirFolder = libDir + '/' + folder\n",
    "            libDirFolder = os.path.join(libDir, folder)\n",
    "            if os.path.isdir(libDirFolder):\n",
    "                for file in sorted(os.listdir(libDirFolder)):\n",
    "                    if os.path.isfile(os.path.join(libDirFolder, file)):\n",
    "                        data.append((env,libDirFolder, folder, file))\n",
    "    \n",
    "    #re-map the columns and split the folder column into the respective features.\n",
    "    dataset_lib = pd.DataFrame(data, columns = ['env','dir','folder','files'])\n",
    "    dataset_lib['market'] = dataset_lib['folder'].apply(lambda x: x.split('_')[0])\n",
    "    dataset_lib['dataset'] = dataset_lib['folder'].apply(lambda x: str(x.split('_')[1:-4]).replace(\"'\",'').replace('[','').replace(']',''))\n",
    "    dataset_lib['start'] = dataset_lib['folder'].apply(lambda x: x.split('_')[-3])\n",
    "    dataset_lib['end'] = dataset_lib['folder'].apply(lambda x: x.split('_')[-2])\n",
    "    dataset_lib['interval'] = dataset_lib['folder'].apply(lambda x: x.split('_')[-4])\n",
    "    dataset_lib['updated'] = dataset_lib['folder'].apply(lambda x: x.split('_')[-1])\n",
    "    dataset_lib = dataset_lib.reindex(['env','market','dataset','start','end','interval','updated','dir','files'], axis=1)\n",
    "\n",
    "    #process the date fields\n",
    "    dataset_lib['start'] =  pd.to_datetime(dataset_lib['start'], format='%Y-%m-%d')\n",
    "    dataset_lib['end'] =  pd.to_datetime(dataset_lib['end'], format='%Y-%m-%d')\n",
    "    dataset_lib['days'] =  dataset_lib['end'] - dataset_lib['start']\n",
    "    dataset_lib['updated'] =  pd.to_datetime(dataset_lib['updated'], format='%Y-%m-%d %H%M%S')\n",
    "    \n",
    "    #group and concat the file list into one field\n",
    "    dataset_lib = dataset_lib.groupby(['env','market','dataset','start','end', 'days','interval','updated','dir'])['files'].apply(lambda x: \"%s\" % ', '.join(x))\n",
    "    dataset_lib = dataset_lib.reset_index()\n",
    "    \n",
    "    return dataset_lib"
   ]
  },
  {
   "cell_type": "code",
   "execution_count": 52,
   "metadata": {
    "collapsed": true
   },
   "outputs": [],
   "source": [
    "#this is slow because of applymap. I could selectively applymap to vastly increase the speed.\n",
    "def get(libIndex):\n",
    "    lib = browse()\n",
    "    dir = lib.iloc[libIndex]['dir']\n",
    "    files = lib.iloc[libIndex]['files'].split(', ')\n",
    "    \n",
    "    data = {}\n",
    "    for i, file in enumerate(files):\n",
    "        progress('Processing: ' + file + ' | ' + str(i+1) + ' of ' + str(len(files)))\n",
    "        #dir_file = dir + '/' + file\n",
    "        dir_file = os.path.join(const_datasetLibDir, dir, file)\n",
    "        read = pd.read_csv(dir_file, sep='\\t',index_col=0,parse_dates = True)\n",
    "        read = read.applymap(lambda x: process_columns(x))\n",
    "        data[file.split('.')[0]] = read.copy().drop_duplicates()\n",
    "    print '\\nFiles processed'\n",
    "    \n",
    "    return data"
   ]
  },
  {
   "cell_type": "code",
   "execution_count": 40,
   "metadata": {
    "collapsed": false
   },
   "outputs": [],
   "source": [
    "#lib = browse()\n",
    "#dataset = get(1)\n",
    "#dataset['symbols.csv']"
   ]
  }
 ],
 "metadata": {
  "kernelspec": {
   "display_name": "Python 2",
   "language": "python",
   "name": "python2"
  },
  "language_info": {
   "codemirror_mode": {
    "name": "ipython",
    "version": 2
   },
   "file_extension": ".py",
   "mimetype": "text/x-python",
   "name": "python",
   "nbconvert_exporter": "python",
   "pygments_lexer": "ipython2",
   "version": "2.7.10"
  }
 },
 "nbformat": 4,
 "nbformat_minor": 2
}
