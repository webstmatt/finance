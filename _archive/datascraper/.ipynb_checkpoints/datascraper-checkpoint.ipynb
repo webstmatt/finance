{
 "cells": [
  {
   "cell_type": "code",
   "execution_count": 1,
   "metadata": {
    "collapsed": false
   },
   "outputs": [],
   "source": [
    "from helpers import *\n",
    "import scrapers\n",
    "import pandas as pd"
   ]
  },
  {
   "cell_type": "code",
   "execution_count": 36,
   "metadata": {
    "collapsed": false
   },
   "outputs": [],
   "source": [
    "def get_stocks_earnings_prices(startDate, endDate, returnDataFrames = True, libraryDir = './datasets/dev', intervalMins=30, periodDays=90):\n",
    "    '''Scrape earnings data from yahoo then scrape the price data & stock summary afterwards.'''\n",
    "    \n",
    "    #determine the library name and the directory\n",
    "    libraryName = 'stocks_earnings_prices_' + str(intervalMins) + 'm_' + startDate + '_' + endDate\n",
    "    libraryDir = libraryDir + '/' + libraryName + '/'\n",
    "    \n",
    "    #check if the directory exists / make a new one if doesnt\n",
    "    checkDirExists(libraryDir, make=True)\n",
    "    \n",
    "    #scrape earnings data\n",
    "    earnings = scrapers.earnings_yahoo_range(startDate,endDate)\n",
    "    \n",
    "    #store results of the earnings scraper\n",
    "    earnings.to_csv(libraryDir + 'earnings.csv', sep='\\t')\n",
    "    \n",
    "    #generate a list of symbols from the earnings data, and store as a CSV.\n",
    "    earnings['Symbol'].to_csv(libraryDir + 'symbols.csv', sep='\\t', header=True)\n",
    "    \n",
    "    #grab the list of symbols\n",
    "    symbols = pd.read_csv(libraryDir + 'symbols.csv', sep='\\t',index_col=0)\n",
    "\n",
    "    #return the prices for the list of symbols\n",
    "    prices = scrapers.prices_google_symbols(symbols)\n",
    "    prices.to_csv(libraryDir + 'prices.csv', sep='\\t')\n",
    "\n",
    "    #return the stock summary data (and success/failed symbols)\n",
    "    stocksummary, success, fail = scrapers.stocksummary_yahoo_symbols(symbols)\n",
    "    stocksummary.to_csv(libraryDir + 'stocksummary.csv', sep='\\t')\n",
    "    \n",
    "    print 'Saved files to: ' + libraryDir\n",
    "    return earnings, symbols, prices, stocksummary"
   ]
  },
  {
   "cell_type": "code",
   "execution_count": 45,
   "metadata": {
    "collapsed": false
   },
   "outputs": [],
   "source": [
    "startDate = '2018-02-01'\n",
    "endDate = '2018-03-30'\n",
    "datasetDir = '../datasets/dev'\n",
    "#earnings, symbols, prices, stocksummary = get_stocks_earnings_prices(startDate, endDate, libraryDir=datasetDir)\n",
    "\n",
    "returnDataFrames = True\n",
    "libraryDir = './datasets/dev'\n",
    "intervalMins=30\n",
    "periodDays=90"
   ]
  },
  {
   "cell_type": "code",
   "execution_count": 46,
   "metadata": {
    "collapsed": false
   },
   "outputs": [
    {
     "ename": "OSError",
     "evalue": "[Errno 2] No such file or directory: './datasets/dev/stocks_earnings_prices_30m_2018-02-01_2018-03-30/'",
     "output_type": "error",
     "traceback": [
      "\u001b[0;31m---------------------------------------------------------------------------\u001b[0m",
      "\u001b[0;31mOSError\u001b[0m                                   Traceback (most recent call last)",
      "\u001b[0;32m<ipython-input-46-0009ca3e7f85>\u001b[0m in \u001b[0;36m<module>\u001b[0;34m()\u001b[0m\n\u001b[1;32m      4\u001b[0m \u001b[0;34m\u001b[0m\u001b[0m\n\u001b[1;32m      5\u001b[0m \u001b[0;31m#check if the directory exists / make a new one if doesnt\u001b[0m\u001b[0;34m\u001b[0m\u001b[0;34m\u001b[0m\u001b[0m\n\u001b[0;32m----> 6\u001b[0;31m \u001b[0mcheckDirExists\u001b[0m\u001b[0;34m(\u001b[0m\u001b[0mlibraryDir\u001b[0m\u001b[0;34m,\u001b[0m \u001b[0mmake\u001b[0m\u001b[0;34m=\u001b[0m\u001b[0mTrue\u001b[0m\u001b[0;34m)\u001b[0m\u001b[0;34m\u001b[0m\u001b[0m\n\u001b[0m",
      "\u001b[0;32m/Library/Python/2.7/site-packages/helpers/helpers.py\u001b[0m in \u001b[0;36mcheckDirExists\u001b[0;34m(outdir, make)\u001b[0m\n\u001b[1;32m     39\u001b[0m         \u001b[0;32mif\u001b[0m \u001b[0;32mnot\u001b[0m \u001b[0mos\u001b[0m\u001b[0;34m.\u001b[0m\u001b[0mpath\u001b[0m\u001b[0;34m.\u001b[0m\u001b[0mexists\u001b[0m\u001b[0;34m(\u001b[0m\u001b[0moutdir\u001b[0m\u001b[0;34m)\u001b[0m\u001b[0;34m:\u001b[0m\u001b[0;34m\u001b[0m\u001b[0m\n\u001b[1;32m     40\u001b[0m                 \u001b[0;32mif\u001b[0m \u001b[0mmake\u001b[0m\u001b[0;34m:\u001b[0m\u001b[0;34m\u001b[0m\u001b[0m\n\u001b[0;32m---> 41\u001b[0;31m                         \u001b[0mos\u001b[0m\u001b[0;34m.\u001b[0m\u001b[0mmkdir\u001b[0m\u001b[0;34m(\u001b[0m\u001b[0moutdir\u001b[0m\u001b[0;34m)\u001b[0m\u001b[0;34m\u001b[0m\u001b[0m\n\u001b[0m\u001b[1;32m     42\u001b[0m                 \u001b[0;32mreturn\u001b[0m \u001b[0mFalse\u001b[0m\u001b[0;34m\u001b[0m\u001b[0m\n\u001b[1;32m     43\u001b[0m         \u001b[0;32melse\u001b[0m\u001b[0;34m:\u001b[0m\u001b[0;34m\u001b[0m\u001b[0m\n",
      "\u001b[0;31mOSError\u001b[0m: [Errno 2] No such file or directory: './datasets/dev/stocks_earnings_prices_30m_2018-02-01_2018-03-30/'"
     ]
    }
   ],
   "source": [
    "#determine the library name and the directory\n",
    "libraryName = 'stocks_earnings_prices_' + str(intervalMins) + 'm_' + startDate + '_' + endDate\n",
    "libraryDir = libraryDir + '/' + libraryName + '/'\n",
    "\n",
    "#check if the directory exists / make a new one if doesnt\n",
    "checkDirExists(libraryDir, make=True)"
   ]
  },
  {
   "cell_type": "code",
   "execution_count": null,
   "metadata": {
    "collapsed": true
   },
   "outputs": [],
   "source": [
    "\n",
    "#check if the directory exists / make a new one if doesnt\n",
    "checkDirExists(libraryDir, make=True)\n",
    "\n",
    "#scrape earnings data\n",
    "earnings = scrapers.earnings_yahoo_range(startDate,endDate)\n",
    "\n",
    "#store results of the earnings scraper\n",
    "earnings.to_csv(libraryDir + 'earnings.csv', sep='\\t')\n",
    "\n",
    "#generate a list of symbols from the earnings data, and store as a CSV.\n",
    "earnings['Symbol'].to_csv(libraryDir + 'symbols.csv', sep='\\t', header=True)\n",
    "\n",
    "#grab the list of symbols\n",
    "symbols = pd.read_csv(libraryDir + 'symbols.csv', sep='\\t',index_col=0)\n",
    "\n",
    "#return the prices for the list of symbols\n",
    "prices = scrapers.prices_google_symbols(symbols)\n",
    "prices.to_csv(libraryDir + 'prices.csv', sep='\\t')\n",
    "\n",
    "#return the stock summary data (and success/failed symbols)\n",
    "stocksummary, success, fail = scrapers.stocksummary_yahoo_symbols(symbols)\n",
    "stocksummary.to_csv(libraryDir + 'stocksummary.csv', sep='\\t')\n",
    "\n",
    "print 'Saved files to: ' + libraryDir\n",
    "return earnings, symbols, prices, stocksummary"
   ]
  }
 ],
 "metadata": {
  "kernelspec": {
   "display_name": "Python 2",
   "language": "python",
   "name": "python2"
  },
  "language_info": {
   "codemirror_mode": {
    "name": "ipython",
    "version": 2
   },
   "file_extension": ".py",
   "mimetype": "text/x-python",
   "name": "python",
   "nbconvert_exporter": "python",
   "pygments_lexer": "ipython2",
   "version": "2.7.10"
  }
 },
 "nbformat": 4,
 "nbformat_minor": 2
}
