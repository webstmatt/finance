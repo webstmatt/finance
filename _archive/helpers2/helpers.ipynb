{
 "cells": [
  {
   "cell_type": "code",
   "execution_count": 23,
   "metadata": {
    "collapsed": false
   },
   "outputs": [],
   "source": [
    "import sys\n",
    "import numpy as np\n",
    "from decimal import Decimal"
   ]
  },
  {
   "cell_type": "code",
   "execution_count": 24,
   "metadata": {
    "collapsed": true
   },
   "outputs": [],
   "source": [
    "def progress(txt):\n",
    "    sys.stdout.write(\"\\r%s\" % txt)\n",
    "    sys.stdout.flush()"
   ]
  },
  {
   "cell_type": "code",
   "execution_count": 27,
   "metadata": {
    "collapsed": false
   },
   "outputs": [],
   "source": [
    "\n",
    "d = {\n",
    "        'M': 6,\n",
    "        'B': 9\n",
    "}\n",
    "def text_to_num(text):\n",
    "    '''This function inputs text and returns a float. It also converts numbers with \"M\" and \"B\" to a float.s'''\n",
    "    if type(text) == float:\n",
    "        return text\n",
    "    if type(text) == int:\n",
    "        return float(text)\n",
    "    if type(text) == unicode:\n",
    "        try:\n",
    "            text = str(text)\n",
    "        except:\n",
    "            text = text\n",
    "    if type(text) == str:\n",
    "        text = text.replace(',','')\n",
    "        if text[-1] in d:\n",
    "            num, magnitude = text[:-1], text[-1]\n",
    "            return float(Decimal(num) * 10 ** d[magnitude])\n",
    "        else:\n",
    "            try:\n",
    "                return float(Decimal(text))\n",
    "            except:\n",
    "                return None\n",
    "    else:\n",
    "        return None\n"
   ]
  },
  {
   "cell_type": "code",
   "execution_count": null,
   "metadata": {
    "collapsed": true
   },
   "outputs": [],
   "source": []
  }
 ],
 "metadata": {
  "kernelspec": {
   "display_name": "Python 2",
   "language": "python",
   "name": "python2"
  },
  "language_info": {
   "codemirror_mode": {
    "name": "ipython",
    "version": 2
   },
   "file_extension": ".py",
   "mimetype": "text/x-python",
   "name": "python",
   "nbconvert_exporter": "python",
   "pygments_lexer": "ipython2",
   "version": "2.7.10"
  }
 },
 "nbformat": 4,
 "nbformat_minor": 2
}
